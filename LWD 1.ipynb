{
 "cells": [
  {
   "cell_type": "markdown",
   "id": "e58dfcef-b8a0-4017-838b-31d94921e2e0",
   "metadata": {
    "collapsed": true,
    "jupyter": {
     "outputs_hidden": true
    }
   },
   "source": [
    "# ANALYSE DES VENTES POUR NOVATREND UNE STARTUP FICTIVE SPÉCIALISÉE DANS LE DOMAINE DU E-COMMERCE"
   ]
  },
  {
   "cell_type": "markdown",
   "id": "3951ff0d-daa4-47b6-86ce-0907600ec460",
   "metadata": {},
   "source": [
    "### Voici les différentes étapes de notre analyse.\n",
    "\n",
    "### 1- Charger le fichier sales_data.csv dans un DataFrame Pandas\n",
    "\n",
    "### 2- Vérifier les valeurs manquantes et les traiter (suppression ou imputation)\n",
    "\n",
    "### 3- Calculer :\n",
    "\n",
    "#### - Le chiffre d’affaires total\n",
    "\n",
    "#### - Le top 5 des produits les plus vendus\n",
    "\n",
    "#### - Les revenus par catégorie de produit\n",
    "\n",
    "#### - Les statistiques descriptives sur les quantités vendues\n",
    "\n",
    "#### - Réaliser au moins deux graphiques :\n",
    "\n",
    "#### - Histogramme des quantités vendues par produit\n",
    "\n",
    "#### - Camembert des revenus par catégorie\n",
    "\n",
    "### 4- Résumer les résultats dans un fichier texte sales_report.txt"
   ]
  },
  {
   "cell_type": "markdown",
   "id": "5f586f24-bac8-4cc7-94b5-74cf6b700e18",
   "metadata": {},
   "source": [
    "### 1- Charger le fichier sales_data.csv dans un DataFrame Pandas"
   ]
  },
  {
   "cell_type": "code",
   "execution_count": 1,
   "id": "9a386e23-8d13-4ac2-8a21-2e73475e6e93",
   "metadata": {},
   "outputs": [],
   "source": [
    "# Importation des librairies qui seront utilisés\n",
    "import pandas as pd\n",
    "import matplotlib.pyplot as plt\n",
    "import numpy as np\n",
    "import operator"
   ]
  },
  {
   "cell_type": "code",
   "execution_count": 2,
   "id": "7811d951-8ef5-477c-a361-e06656c69fe6",
   "metadata": {},
   "outputs": [
    {
     "data": {
      "text/html": [
       "<div>\n",
       "<style scoped>\n",
       "    .dataframe tbody tr th:only-of-type {\n",
       "        vertical-align: middle;\n",
       "    }\n",
       "\n",
       "    .dataframe tbody tr th {\n",
       "        vertical-align: top;\n",
       "    }\n",
       "\n",
       "    .dataframe thead th {\n",
       "        text-align: right;\n",
       "    }\n",
       "</style>\n",
       "<table border=\"1\" class=\"dataframe\">\n",
       "  <thead>\n",
       "    <tr style=\"text-align: right;\">\n",
       "      <th></th>\n",
       "      <th>order_id</th>\n",
       "      <th>product</th>\n",
       "      <th>category</th>\n",
       "      <th>price</th>\n",
       "      <th>quantity</th>\n",
       "      <th>order_date</th>\n",
       "      <th>customer_id</th>\n",
       "      <th>payment_method</th>\n",
       "      <th>country</th>\n",
       "    </tr>\n",
       "    <tr>\n",
       "      <th>order_id</th>\n",
       "      <th></th>\n",
       "      <th></th>\n",
       "      <th></th>\n",
       "      <th></th>\n",
       "      <th></th>\n",
       "      <th></th>\n",
       "      <th></th>\n",
       "      <th></th>\n",
       "      <th></th>\n",
       "    </tr>\n",
       "  </thead>\n",
       "  <tbody>\n",
       "    <tr>\n",
       "      <th>ORD1000</th>\n",
       "      <td>ORD1000</td>\n",
       "      <td>Wireless Headphones</td>\n",
       "      <td>Audio</td>\n",
       "      <td>1167.65</td>\n",
       "      <td>5</td>\n",
       "      <td>2023-03-12</td>\n",
       "      <td>CUST371</td>\n",
       "      <td>PayPal</td>\n",
       "      <td>Canada</td>\n",
       "    </tr>\n",
       "    <tr>\n",
       "      <th>ORD1001</th>\n",
       "      <td>ORD1001</td>\n",
       "      <td>Smartphone X</td>\n",
       "      <td>Electronics</td>\n",
       "      <td>287.54</td>\n",
       "      <td>3</td>\n",
       "      <td>2023-01-31</td>\n",
       "      <td>CUST769</td>\n",
       "      <td>Bank Transfer</td>\n",
       "      <td>France</td>\n",
       "    </tr>\n",
       "    <tr>\n",
       "      <th>ORD1002</th>\n",
       "      <td>ORD1002</td>\n",
       "      <td>Bluetooth Speaker</td>\n",
       "      <td>Audio</td>\n",
       "      <td>450.09</td>\n",
       "      <td>5</td>\n",
       "      <td>2023-04-23</td>\n",
       "      <td>CUST962</td>\n",
       "      <td>Credit Card</td>\n",
       "      <td>UK</td>\n",
       "    </tr>\n",
       "    <tr>\n",
       "      <th>ORD1003</th>\n",
       "      <td>ORD1003</td>\n",
       "      <td>Gaming Mouse</td>\n",
       "      <td>Accessories</td>\n",
       "      <td>1254.75</td>\n",
       "      <td>2</td>\n",
       "      <td>2023-08-29</td>\n",
       "      <td>CUST724</td>\n",
       "      <td>PayPal</td>\n",
       "      <td>France</td>\n",
       "    </tr>\n",
       "    <tr>\n",
       "      <th>ORD1004</th>\n",
       "      <td>ORD1004</td>\n",
       "      <td>Laptop Pro</td>\n",
       "      <td>Computers</td>\n",
       "      <td>76.20</td>\n",
       "      <td>2</td>\n",
       "      <td>2023-04-25</td>\n",
       "      <td>CUST609</td>\n",
       "      <td>PayPal</td>\n",
       "      <td>Spain</td>\n",
       "    </tr>\n",
       "    <tr>\n",
       "      <th>...</th>\n",
       "      <td>...</td>\n",
       "      <td>...</td>\n",
       "      <td>...</td>\n",
       "      <td>...</td>\n",
       "      <td>...</td>\n",
       "      <td>...</td>\n",
       "      <td>...</td>\n",
       "      <td>...</td>\n",
       "      <td>...</td>\n",
       "    </tr>\n",
       "    <tr>\n",
       "      <th>ORD1195</th>\n",
       "      <td>ORD1195</td>\n",
       "      <td>Wireless Headphones</td>\n",
       "      <td>Audio</td>\n",
       "      <td>1254.68</td>\n",
       "      <td>5</td>\n",
       "      <td>2023-02-08</td>\n",
       "      <td>CUST372</td>\n",
       "      <td>Cryptocurrency</td>\n",
       "      <td>USA</td>\n",
       "    </tr>\n",
       "    <tr>\n",
       "      <th>ORD1196</th>\n",
       "      <td>ORD1196</td>\n",
       "      <td>Smartphone X</td>\n",
       "      <td>Electronics</td>\n",
       "      <td>178.49</td>\n",
       "      <td>1</td>\n",
       "      <td>2023-11-03</td>\n",
       "      <td>CUST135</td>\n",
       "      <td>Credit Card</td>\n",
       "      <td>Spain</td>\n",
       "    </tr>\n",
       "    <tr>\n",
       "      <th>ORD1197</th>\n",
       "      <td>ORD1197</td>\n",
       "      <td>Wireless Headphones</td>\n",
       "      <td>Audio</td>\n",
       "      <td>1004.51</td>\n",
       "      <td>5</td>\n",
       "      <td>2023-09-06</td>\n",
       "      <td>CUST288</td>\n",
       "      <td>Bank Transfer</td>\n",
       "      <td>UK</td>\n",
       "    </tr>\n",
       "    <tr>\n",
       "      <th>ORD1198</th>\n",
       "      <td>ORD1198</td>\n",
       "      <td>Smartwatch</td>\n",
       "      <td>Wearables</td>\n",
       "      <td>513.37</td>\n",
       "      <td>2</td>\n",
       "      <td>2023-09-20</td>\n",
       "      <td>CUST614</td>\n",
       "      <td>Cryptocurrency</td>\n",
       "      <td>USA</td>\n",
       "    </tr>\n",
       "    <tr>\n",
       "      <th>ORD1199</th>\n",
       "      <td>ORD1199</td>\n",
       "      <td>Gaming Mouse</td>\n",
       "      <td>Accessories</td>\n",
       "      <td>1297.58</td>\n",
       "      <td>1</td>\n",
       "      <td>2023-10-22</td>\n",
       "      <td>CUST226</td>\n",
       "      <td>Bank Transfer</td>\n",
       "      <td>UK</td>\n",
       "    </tr>\n",
       "  </tbody>\n",
       "</table>\n",
       "<p>200 rows × 9 columns</p>\n",
       "</div>"
      ],
      "text/plain": [
       "         order_id              product     category    price  quantity  \\\n",
       "order_id                                                                 \n",
       "ORD1000   ORD1000  Wireless Headphones        Audio  1167.65         5   \n",
       "ORD1001   ORD1001         Smartphone X  Electronics   287.54         3   \n",
       "ORD1002   ORD1002    Bluetooth Speaker        Audio   450.09         5   \n",
       "ORD1003   ORD1003         Gaming Mouse  Accessories  1254.75         2   \n",
       "ORD1004   ORD1004           Laptop Pro    Computers    76.20         2   \n",
       "...           ...                  ...          ...      ...       ...   \n",
       "ORD1195   ORD1195  Wireless Headphones        Audio  1254.68         5   \n",
       "ORD1196   ORD1196         Smartphone X  Electronics   178.49         1   \n",
       "ORD1197   ORD1197  Wireless Headphones        Audio  1004.51         5   \n",
       "ORD1198   ORD1198           Smartwatch    Wearables   513.37         2   \n",
       "ORD1199   ORD1199         Gaming Mouse  Accessories  1297.58         1   \n",
       "\n",
       "          order_date customer_id  payment_method country  \n",
       "order_id                                                  \n",
       "ORD1000   2023-03-12     CUST371          PayPal  Canada  \n",
       "ORD1001   2023-01-31     CUST769   Bank Transfer  France  \n",
       "ORD1002   2023-04-23     CUST962     Credit Card      UK  \n",
       "ORD1003   2023-08-29     CUST724          PayPal  France  \n",
       "ORD1004   2023-04-25     CUST609          PayPal   Spain  \n",
       "...              ...         ...             ...     ...  \n",
       "ORD1195   2023-02-08     CUST372  Cryptocurrency     USA  \n",
       "ORD1196   2023-11-03     CUST135     Credit Card   Spain  \n",
       "ORD1197   2023-09-06     CUST288   Bank Transfer      UK  \n",
       "ORD1198   2023-09-20     CUST614  Cryptocurrency     USA  \n",
       "ORD1199   2023-10-22     CUST226   Bank Transfer      UK  \n",
       "\n",
       "[200 rows x 9 columns]"
      ]
     },
     "execution_count": 2,
     "metadata": {},
     "output_type": "execute_result"
    }
   ],
   "source": [
    "# On ouvrira ici le fichier sales au format excel.\n",
    "sales = pd.read_csv(\"/Users/Lenovo/Downloads/sales_data.csv\")\n",
    "sales_df = pd.DataFrame(sales)\n",
    "sales_df.index = sales_df.order_id\n",
    "sales_df"
   ]
  },
  {
   "cell_type": "code",
   "execution_count": 3,
   "id": "0bf1eb25-b055-4c07-9398-f8d143f4351c",
   "metadata": {},
   "outputs": [
    {
     "data": {
      "text/html": [
       "<div>\n",
       "<style scoped>\n",
       "    .dataframe tbody tr th:only-of-type {\n",
       "        vertical-align: middle;\n",
       "    }\n",
       "\n",
       "    .dataframe tbody tr th {\n",
       "        vertical-align: top;\n",
       "    }\n",
       "\n",
       "    .dataframe thead th {\n",
       "        text-align: right;\n",
       "    }\n",
       "</style>\n",
       "<table border=\"1\" class=\"dataframe\">\n",
       "  <thead>\n",
       "    <tr style=\"text-align: right;\">\n",
       "      <th></th>\n",
       "      <th>product</th>\n",
       "      <th>category</th>\n",
       "      <th>price</th>\n",
       "      <th>quantity</th>\n",
       "      <th>order_date</th>\n",
       "      <th>customer_id</th>\n",
       "      <th>payment_method</th>\n",
       "      <th>country</th>\n",
       "    </tr>\n",
       "    <tr>\n",
       "      <th>order_id</th>\n",
       "      <th></th>\n",
       "      <th></th>\n",
       "      <th></th>\n",
       "      <th></th>\n",
       "      <th></th>\n",
       "      <th></th>\n",
       "      <th></th>\n",
       "      <th></th>\n",
       "    </tr>\n",
       "  </thead>\n",
       "  <tbody>\n",
       "    <tr>\n",
       "      <th>ORD1000</th>\n",
       "      <td>Wireless Headphones</td>\n",
       "      <td>Audio</td>\n",
       "      <td>1167.65</td>\n",
       "      <td>5</td>\n",
       "      <td>2023-03-12</td>\n",
       "      <td>CUST371</td>\n",
       "      <td>PayPal</td>\n",
       "      <td>Canada</td>\n",
       "    </tr>\n",
       "    <tr>\n",
       "      <th>ORD1001</th>\n",
       "      <td>Smartphone X</td>\n",
       "      <td>Electronics</td>\n",
       "      <td>287.54</td>\n",
       "      <td>3</td>\n",
       "      <td>2023-01-31</td>\n",
       "      <td>CUST769</td>\n",
       "      <td>Bank Transfer</td>\n",
       "      <td>France</td>\n",
       "    </tr>\n",
       "    <tr>\n",
       "      <th>ORD1002</th>\n",
       "      <td>Bluetooth Speaker</td>\n",
       "      <td>Audio</td>\n",
       "      <td>450.09</td>\n",
       "      <td>5</td>\n",
       "      <td>2023-04-23</td>\n",
       "      <td>CUST962</td>\n",
       "      <td>Credit Card</td>\n",
       "      <td>UK</td>\n",
       "    </tr>\n",
       "    <tr>\n",
       "      <th>ORD1003</th>\n",
       "      <td>Gaming Mouse</td>\n",
       "      <td>Accessories</td>\n",
       "      <td>1254.75</td>\n",
       "      <td>2</td>\n",
       "      <td>2023-08-29</td>\n",
       "      <td>CUST724</td>\n",
       "      <td>PayPal</td>\n",
       "      <td>France</td>\n",
       "    </tr>\n",
       "    <tr>\n",
       "      <th>ORD1004</th>\n",
       "      <td>Laptop Pro</td>\n",
       "      <td>Computers</td>\n",
       "      <td>76.20</td>\n",
       "      <td>2</td>\n",
       "      <td>2023-04-25</td>\n",
       "      <td>CUST609</td>\n",
       "      <td>PayPal</td>\n",
       "      <td>Spain</td>\n",
       "    </tr>\n",
       "    <tr>\n",
       "      <th>...</th>\n",
       "      <td>...</td>\n",
       "      <td>...</td>\n",
       "      <td>...</td>\n",
       "      <td>...</td>\n",
       "      <td>...</td>\n",
       "      <td>...</td>\n",
       "      <td>...</td>\n",
       "      <td>...</td>\n",
       "    </tr>\n",
       "    <tr>\n",
       "      <th>ORD1195</th>\n",
       "      <td>Wireless Headphones</td>\n",
       "      <td>Audio</td>\n",
       "      <td>1254.68</td>\n",
       "      <td>5</td>\n",
       "      <td>2023-02-08</td>\n",
       "      <td>CUST372</td>\n",
       "      <td>Cryptocurrency</td>\n",
       "      <td>USA</td>\n",
       "    </tr>\n",
       "    <tr>\n",
       "      <th>ORD1196</th>\n",
       "      <td>Smartphone X</td>\n",
       "      <td>Electronics</td>\n",
       "      <td>178.49</td>\n",
       "      <td>1</td>\n",
       "      <td>2023-11-03</td>\n",
       "      <td>CUST135</td>\n",
       "      <td>Credit Card</td>\n",
       "      <td>Spain</td>\n",
       "    </tr>\n",
       "    <tr>\n",
       "      <th>ORD1197</th>\n",
       "      <td>Wireless Headphones</td>\n",
       "      <td>Audio</td>\n",
       "      <td>1004.51</td>\n",
       "      <td>5</td>\n",
       "      <td>2023-09-06</td>\n",
       "      <td>CUST288</td>\n",
       "      <td>Bank Transfer</td>\n",
       "      <td>UK</td>\n",
       "    </tr>\n",
       "    <tr>\n",
       "      <th>ORD1198</th>\n",
       "      <td>Smartwatch</td>\n",
       "      <td>Wearables</td>\n",
       "      <td>513.37</td>\n",
       "      <td>2</td>\n",
       "      <td>2023-09-20</td>\n",
       "      <td>CUST614</td>\n",
       "      <td>Cryptocurrency</td>\n",
       "      <td>USA</td>\n",
       "    </tr>\n",
       "    <tr>\n",
       "      <th>ORD1199</th>\n",
       "      <td>Gaming Mouse</td>\n",
       "      <td>Accessories</td>\n",
       "      <td>1297.58</td>\n",
       "      <td>1</td>\n",
       "      <td>2023-10-22</td>\n",
       "      <td>CUST226</td>\n",
       "      <td>Bank Transfer</td>\n",
       "      <td>UK</td>\n",
       "    </tr>\n",
       "  </tbody>\n",
       "</table>\n",
       "<p>200 rows × 8 columns</p>\n",
       "</div>"
      ],
      "text/plain": [
       "                      product     category    price  quantity  order_date  \\\n",
       "order_id                                                                    \n",
       "ORD1000   Wireless Headphones        Audio  1167.65         5  2023-03-12   \n",
       "ORD1001          Smartphone X  Electronics   287.54         3  2023-01-31   \n",
       "ORD1002     Bluetooth Speaker        Audio   450.09         5  2023-04-23   \n",
       "ORD1003          Gaming Mouse  Accessories  1254.75         2  2023-08-29   \n",
       "ORD1004            Laptop Pro    Computers    76.20         2  2023-04-25   \n",
       "...                       ...          ...      ...       ...         ...   \n",
       "ORD1195   Wireless Headphones        Audio  1254.68         5  2023-02-08   \n",
       "ORD1196          Smartphone X  Electronics   178.49         1  2023-11-03   \n",
       "ORD1197   Wireless Headphones        Audio  1004.51         5  2023-09-06   \n",
       "ORD1198            Smartwatch    Wearables   513.37         2  2023-09-20   \n",
       "ORD1199          Gaming Mouse  Accessories  1297.58         1  2023-10-22   \n",
       "\n",
       "         customer_id  payment_method country  \n",
       "order_id                                      \n",
       "ORD1000      CUST371          PayPal  Canada  \n",
       "ORD1001      CUST769   Bank Transfer  France  \n",
       "ORD1002      CUST962     Credit Card      UK  \n",
       "ORD1003      CUST724          PayPal  France  \n",
       "ORD1004      CUST609          PayPal   Spain  \n",
       "...              ...             ...     ...  \n",
       "ORD1195      CUST372  Cryptocurrency     USA  \n",
       "ORD1196      CUST135     Credit Card   Spain  \n",
       "ORD1197      CUST288   Bank Transfer      UK  \n",
       "ORD1198      CUST614  Cryptocurrency     USA  \n",
       "ORD1199      CUST226   Bank Transfer      UK  \n",
       "\n",
       "[200 rows x 8 columns]"
      ]
     },
     "execution_count": 3,
     "metadata": {},
     "output_type": "execute_result"
    }
   ],
   "source": [
    "# on procèdera maintenant à la suppression de la colonne \"order_id\",\n",
    "# elle sera utilisée comme index de notre DataFrame\n",
    "del sales_df[\"order_id\"]\n",
    "sales_df"
   ]
  },
  {
   "cell_type": "code",
   "execution_count": 4,
   "id": "ce7f3aa5-e872-4491-8759-4646c11725c5",
   "metadata": {},
   "outputs": [
    {
     "data": {
      "text/plain": [
       "<bound method NDFrame.describe of                       product     category    price  quantity  order_date  \\\n",
       "order_id                                                                    \n",
       "ORD1000   Wireless Headphones        Audio  1167.65         5  2023-03-12   \n",
       "ORD1001          Smartphone X  Electronics   287.54         3  2023-01-31   \n",
       "ORD1002     Bluetooth Speaker        Audio   450.09         5  2023-04-23   \n",
       "ORD1003          Gaming Mouse  Accessories  1254.75         2  2023-08-29   \n",
       "ORD1004            Laptop Pro    Computers    76.20         2  2023-04-25   \n",
       "...                       ...          ...      ...       ...         ...   \n",
       "ORD1195   Wireless Headphones        Audio  1254.68         5  2023-02-08   \n",
       "ORD1196          Smartphone X  Electronics   178.49         1  2023-11-03   \n",
       "ORD1197   Wireless Headphones        Audio  1004.51         5  2023-09-06   \n",
       "ORD1198            Smartwatch    Wearables   513.37         2  2023-09-20   \n",
       "ORD1199          Gaming Mouse  Accessories  1297.58         1  2023-10-22   \n",
       "\n",
       "         customer_id  payment_method country  \n",
       "order_id                                      \n",
       "ORD1000      CUST371          PayPal  Canada  \n",
       "ORD1001      CUST769   Bank Transfer  France  \n",
       "ORD1002      CUST962     Credit Card      UK  \n",
       "ORD1003      CUST724          PayPal  France  \n",
       "ORD1004      CUST609          PayPal   Spain  \n",
       "...              ...             ...     ...  \n",
       "ORD1195      CUST372  Cryptocurrency     USA  \n",
       "ORD1196      CUST135     Credit Card   Spain  \n",
       "ORD1197      CUST288   Bank Transfer      UK  \n",
       "ORD1198      CUST614  Cryptocurrency     USA  \n",
       "ORD1199      CUST226   Bank Transfer      UK  \n",
       "\n",
       "[200 rows x 8 columns]>"
      ]
     },
     "execution_count": 4,
     "metadata": {},
     "output_type": "execute_result"
    }
   ],
   "source": [
    "# nous nous retrouvons maintenant avec 8 colonnes pour 200 lignes\n",
    "# résumé général de notre tableau\n",
    "sales_df.describe"
   ]
  },
  {
   "cell_type": "code",
   "execution_count": 5,
   "id": "5cf24dd5-082f-4f3d-bc1b-c8954be571a2",
   "metadata": {},
   "outputs": [
    {
     "data": {
      "text/plain": [
       "{'Canada': 29, 'France': 32, 'UK': 37, 'Spain': 34, 'USA': 34, 'Germany': 34}"
      ]
     },
     "execution_count": 5,
     "metadata": {},
     "output_type": "execute_result"
    }
   ],
   "source": [
    "def counting(go : list) : \n",
    "    dictio = {elements : go.count(elements) for elements in go}\n",
    "    return dictio\n",
    "country_count = counting(list(sales_df.country))\n",
    "country_count"
   ]
  },
  {
   "cell_type": "markdown",
   "id": "427b04a0-f894-42c6-ae87-9cfe5fadcc9f",
   "metadata": {},
   "source": [
    "#### on réalise que l'Ukraine est le pays avec le plus de client"
   ]
  },
  {
   "cell_type": "code",
   "execution_count": 6,
   "id": "8e684f86-f666-4cbd-8d57-e5dab634cd93",
   "metadata": {},
   "outputs": [
    {
     "data": {
      "text/plain": [
       "{'PayPal': 49, 'Bank Transfer': 48, 'Credit Card': 46, 'Cryptocurrency': 57}"
      ]
     },
     "execution_count": 6,
     "metadata": {},
     "output_type": "execute_result"
    }
   ],
   "source": [
    "payment_count = counting(list(sales_df.payment_method))\n",
    "payment_count"
   ]
  },
  {
   "cell_type": "markdown",
   "id": "73579516-7f89-4bfe-ba7e-33ef645730db",
   "metadata": {},
   "source": [
    "#### on note que les cryptomonnaies sont les plus utiilisées"
   ]
  },
  {
   "cell_type": "code",
   "execution_count": 7,
   "id": "204cdead-5ed2-4e3f-a218-0f0506fcbbda",
   "metadata": {},
   "outputs": [
    {
     "data": {
      "text/plain": [
       "{'Audio': 71,\n",
       " 'Electronics': 31,\n",
       " 'Accessories': 37,\n",
       " 'Computers': 28,\n",
       " 'Wearables': 33}"
      ]
     },
     "execution_count": 7,
     "metadata": {},
     "output_type": "execute_result"
    }
   ],
   "source": [
    "category_count = counting(list(sales_df.category))\n",
    "category_count"
   ]
  },
  {
   "cell_type": "markdown",
   "id": "609bf76a-b704-4b45-bc35-bac85501aa76",
   "metadata": {},
   "source": [
    "#### Les clients achètent plus d'appareils audio qu'autre chose"
   ]
  },
  {
   "cell_type": "markdown",
   "id": "d4cab940-0b5c-4251-8a54-be3bfcd9f820",
   "metadata": {},
   "source": [
    "### 2- Vérifier les valeurs manquantes et les traiter (suppression ou imputation)"
   ]
  },
  {
   "cell_type": "code",
   "execution_count": 8,
   "id": "caf62502-af15-4ee1-848b-23507584d163",
   "metadata": {},
   "outputs": [
    {
     "data": {
      "text/plain": [
       "product           0\n",
       "category          0\n",
       "price             0\n",
       "quantity          0\n",
       "order_date        0\n",
       "customer_id       0\n",
       "payment_method    0\n",
       "country           0\n",
       "dtype: int64"
      ]
     },
     "execution_count": 8,
     "metadata": {},
     "output_type": "execute_result"
    }
   ],
   "source": [
    "sales_df.isnull().sum()"
   ]
  },
  {
   "cell_type": "markdown",
   "id": "6a597e8f-b40e-40ec-ace8-f3ca8ef0fe3a",
   "metadata": {},
   "source": [
    "#### Il n'y a aucune valeur nulle ou manquante. Il n'est donc pas néccéssaire de procéder à un nettoyage"
   ]
  },
  {
   "cell_type": "markdown",
   "id": "d10c5d9a-5ab8-4946-a04a-e043ff062ee6",
   "metadata": {},
   "source": [
    "### 3- Calculer :\n",
    "\n",
    "### - Le chiffre d’affaires total\n",
    "Nous allons procéder au calcul du chiffre d'affaire total"
   ]
  },
  {
   "cell_type": "code",
   "execution_count": 15,
   "id": "f9254bb6-d525-46d1-b79f-19b01b496048",
   "metadata": {},
   "outputs": [
    {
     "name": "stdout",
     "output_type": "stream",
     "text": [
      "Le Chiffre d'affaire est : $ 517643.9 \n"
     ]
    }
   ],
   "source": [
    "# nous mettons les collonnes concernées dans deux différentes listes pour une meilleure manipulation\n",
    "#Chiffre d'affaire = produit scalaire (prix, quantité) ou 'sumproduct en language excel\n",
    "\n",
    "prix = np.array(list(sales_df.price))\n",
    "quantités = np.array(list(sales_df.quantity))\n",
    "CA = round(np.dot(prix, quantités), 1)\n",
    "print(f\"Le Chiffre d'affaire est : $ {CA} \")"
   ]
  },
  {
   "cell_type": "markdown",
   "id": "e67029fd-b5a2-4a71-8206-0c3b6a29d4ac",
   "metadata": {},
   "source": [
    "- Le top 5 des produits les plus vendus\n",
    "\n",
    "  Pour cela nous utiliserons le dictionnaire généré plus haut \"category_count\""
   ]
  },
  {
   "cell_type": "code",
   "execution_count": 10,
   "id": "9ba06e85-e431-48c1-9974-b41ab432b52f",
   "metadata": {},
   "outputs": [
    {
     "data": {
      "text/plain": [
       "{'Audio': 71,\n",
       " 'Electronics': 31,\n",
       " 'Accessories': 37,\n",
       " 'Computers': 28,\n",
       " 'Wearables': 33}"
      ]
     },
     "execution_count": 10,
     "metadata": {},
     "output_type": "execute_result"
    }
   ],
   "source": [
    "category_count"
   ]
  },
  {
   "cell_type": "code",
   "execution_count": 11,
   "id": "2aa5b4fc-36fa-429b-9dd1-165772a4e8d0",
   "metadata": {},
   "outputs": [
    {
     "data": {
      "text/plain": [
       "{'Audio': 71,\n",
       " 'Accessories': 37,\n",
       " 'Wearables': 33,\n",
       " 'Electronics': 31,\n",
       " 'Computers': 28}"
      ]
     },
     "execution_count": 11,
     "metadata": {},
     "output_type": "execute_result"
    }
   ],
   "source": [
    "# nous allons l'ordonner en fonction de l'occurrence, la valeur\n",
    "category_sorted = dict(sorted(category_count.items(), key = operator.itemgetter(1), reverse = True))\n",
    "category_sorted"
   ]
  },
  {
   "cell_type": "code",
   "execution_count": 13,
   "id": "17af9e5c-a8bd-4b91-8f14-7338b2d9a702",
   "metadata": {},
   "outputs": [
    {
     "name": "stdout",
     "output_type": "stream",
     "text": [
      " The Number 1 product is : Audio with 71 pieces\n",
      " The Number 2 product is : Accessories with 37 pieces\n",
      " The Number 3 product is : Wearables with 33 pieces\n",
      " The Number 4 product is : Electronics with 31 pieces\n",
      " The Number 5 product is : Computers with 28 pieces\n"
     ]
    }
   ],
   "source": [
    "# classification finale, meilleure affichage\n",
    "\n",
    "count = 1\n",
    "for key, value in category_sorted.items() : \n",
    "    if count == len(category_sorted) + 1 :\n",
    "        break\n",
    "    else : \n",
    "        print(f\" The Number {count} product is : {key} with {value} pieces\")\n",
    "        count += 1"
   ]
  },
  {
   "cell_type": "markdown",
   "id": "9876127e-4811-4050-8ac5-362843ee6dce",
   "metadata": {},
   "source": [
    "- les revenus par categorie de produit"
   ]
  },
  {
   "cell_type": "code",
   "execution_count": 14,
   "id": "b17909d3-9cb2-433e-ac43-3c1dbeab8ffd",
   "metadata": {},
   "outputs": [
    {
     "data": {
      "text/html": [
       "<div>\n",
       "<style scoped>\n",
       "    .dataframe tbody tr th:only-of-type {\n",
       "        vertical-align: middle;\n",
       "    }\n",
       "\n",
       "    .dataframe tbody tr th {\n",
       "        vertical-align: top;\n",
       "    }\n",
       "\n",
       "    .dataframe thead th {\n",
       "        text-align: right;\n",
       "    }\n",
       "</style>\n",
       "<table border=\"1\" class=\"dataframe\">\n",
       "  <thead>\n",
       "    <tr style=\"text-align: right;\">\n",
       "      <th></th>\n",
       "      <th>product</th>\n",
       "      <th>category</th>\n",
       "      <th>price</th>\n",
       "      <th>quantity</th>\n",
       "      <th>order_date</th>\n",
       "      <th>customer_id</th>\n",
       "      <th>payment_method</th>\n",
       "      <th>country</th>\n",
       "      <th>Revenue</th>\n",
       "    </tr>\n",
       "    <tr>\n",
       "      <th>order_id</th>\n",
       "      <th></th>\n",
       "      <th></th>\n",
       "      <th></th>\n",
       "      <th></th>\n",
       "      <th></th>\n",
       "      <th></th>\n",
       "      <th></th>\n",
       "      <th></th>\n",
       "      <th></th>\n",
       "    </tr>\n",
       "  </thead>\n",
       "  <tbody>\n",
       "    <tr>\n",
       "      <th>ORD1000</th>\n",
       "      <td>Wireless Headphones</td>\n",
       "      <td>Audio</td>\n",
       "      <td>1167.65</td>\n",
       "      <td>5</td>\n",
       "      <td>2023-03-12</td>\n",
       "      <td>CUST371</td>\n",
       "      <td>PayPal</td>\n",
       "      <td>Canada</td>\n",
       "      <td>5838.25</td>\n",
       "    </tr>\n",
       "    <tr>\n",
       "      <th>ORD1001</th>\n",
       "      <td>Smartphone X</td>\n",
       "      <td>Electronics</td>\n",
       "      <td>287.54</td>\n",
       "      <td>3</td>\n",
       "      <td>2023-01-31</td>\n",
       "      <td>CUST769</td>\n",
       "      <td>Bank Transfer</td>\n",
       "      <td>France</td>\n",
       "      <td>862.62</td>\n",
       "    </tr>\n",
       "    <tr>\n",
       "      <th>ORD1002</th>\n",
       "      <td>Bluetooth Speaker</td>\n",
       "      <td>Audio</td>\n",
       "      <td>450.09</td>\n",
       "      <td>5</td>\n",
       "      <td>2023-04-23</td>\n",
       "      <td>CUST962</td>\n",
       "      <td>Credit Card</td>\n",
       "      <td>UK</td>\n",
       "      <td>2250.45</td>\n",
       "    </tr>\n",
       "    <tr>\n",
       "      <th>ORD1003</th>\n",
       "      <td>Gaming Mouse</td>\n",
       "      <td>Accessories</td>\n",
       "      <td>1254.75</td>\n",
       "      <td>2</td>\n",
       "      <td>2023-08-29</td>\n",
       "      <td>CUST724</td>\n",
       "      <td>PayPal</td>\n",
       "      <td>France</td>\n",
       "      <td>2509.50</td>\n",
       "    </tr>\n",
       "    <tr>\n",
       "      <th>ORD1004</th>\n",
       "      <td>Laptop Pro</td>\n",
       "      <td>Computers</td>\n",
       "      <td>76.20</td>\n",
       "      <td>2</td>\n",
       "      <td>2023-04-25</td>\n",
       "      <td>CUST609</td>\n",
       "      <td>PayPal</td>\n",
       "      <td>Spain</td>\n",
       "      <td>152.40</td>\n",
       "    </tr>\n",
       "    <tr>\n",
       "      <th>...</th>\n",
       "      <td>...</td>\n",
       "      <td>...</td>\n",
       "      <td>...</td>\n",
       "      <td>...</td>\n",
       "      <td>...</td>\n",
       "      <td>...</td>\n",
       "      <td>...</td>\n",
       "      <td>...</td>\n",
       "      <td>...</td>\n",
       "    </tr>\n",
       "    <tr>\n",
       "      <th>ORD1195</th>\n",
       "      <td>Wireless Headphones</td>\n",
       "      <td>Audio</td>\n",
       "      <td>1254.68</td>\n",
       "      <td>5</td>\n",
       "      <td>2023-02-08</td>\n",
       "      <td>CUST372</td>\n",
       "      <td>Cryptocurrency</td>\n",
       "      <td>USA</td>\n",
       "      <td>6273.40</td>\n",
       "    </tr>\n",
       "    <tr>\n",
       "      <th>ORD1196</th>\n",
       "      <td>Smartphone X</td>\n",
       "      <td>Electronics</td>\n",
       "      <td>178.49</td>\n",
       "      <td>1</td>\n",
       "      <td>2023-11-03</td>\n",
       "      <td>CUST135</td>\n",
       "      <td>Credit Card</td>\n",
       "      <td>Spain</td>\n",
       "      <td>178.49</td>\n",
       "    </tr>\n",
       "    <tr>\n",
       "      <th>ORD1197</th>\n",
       "      <td>Wireless Headphones</td>\n",
       "      <td>Audio</td>\n",
       "      <td>1004.51</td>\n",
       "      <td>5</td>\n",
       "      <td>2023-09-06</td>\n",
       "      <td>CUST288</td>\n",
       "      <td>Bank Transfer</td>\n",
       "      <td>UK</td>\n",
       "      <td>5022.55</td>\n",
       "    </tr>\n",
       "    <tr>\n",
       "      <th>ORD1198</th>\n",
       "      <td>Smartwatch</td>\n",
       "      <td>Wearables</td>\n",
       "      <td>513.37</td>\n",
       "      <td>2</td>\n",
       "      <td>2023-09-20</td>\n",
       "      <td>CUST614</td>\n",
       "      <td>Cryptocurrency</td>\n",
       "      <td>USA</td>\n",
       "      <td>1026.74</td>\n",
       "    </tr>\n",
       "    <tr>\n",
       "      <th>ORD1199</th>\n",
       "      <td>Gaming Mouse</td>\n",
       "      <td>Accessories</td>\n",
       "      <td>1297.58</td>\n",
       "      <td>1</td>\n",
       "      <td>2023-10-22</td>\n",
       "      <td>CUST226</td>\n",
       "      <td>Bank Transfer</td>\n",
       "      <td>UK</td>\n",
       "      <td>1297.58</td>\n",
       "    </tr>\n",
       "  </tbody>\n",
       "</table>\n",
       "<p>200 rows × 9 columns</p>\n",
       "</div>"
      ],
      "text/plain": [
       "                      product     category    price  quantity  order_date  \\\n",
       "order_id                                                                    \n",
       "ORD1000   Wireless Headphones        Audio  1167.65         5  2023-03-12   \n",
       "ORD1001          Smartphone X  Electronics   287.54         3  2023-01-31   \n",
       "ORD1002     Bluetooth Speaker        Audio   450.09         5  2023-04-23   \n",
       "ORD1003          Gaming Mouse  Accessories  1254.75         2  2023-08-29   \n",
       "ORD1004            Laptop Pro    Computers    76.20         2  2023-04-25   \n",
       "...                       ...          ...      ...       ...         ...   \n",
       "ORD1195   Wireless Headphones        Audio  1254.68         5  2023-02-08   \n",
       "ORD1196          Smartphone X  Electronics   178.49         1  2023-11-03   \n",
       "ORD1197   Wireless Headphones        Audio  1004.51         5  2023-09-06   \n",
       "ORD1198            Smartwatch    Wearables   513.37         2  2023-09-20   \n",
       "ORD1199          Gaming Mouse  Accessories  1297.58         1  2023-10-22   \n",
       "\n",
       "         customer_id  payment_method country  Revenue  \n",
       "order_id                                               \n",
       "ORD1000      CUST371          PayPal  Canada  5838.25  \n",
       "ORD1001      CUST769   Bank Transfer  France   862.62  \n",
       "ORD1002      CUST962     Credit Card      UK  2250.45  \n",
       "ORD1003      CUST724          PayPal  France  2509.50  \n",
       "ORD1004      CUST609          PayPal   Spain   152.40  \n",
       "...              ...             ...     ...      ...  \n",
       "ORD1195      CUST372  Cryptocurrency     USA  6273.40  \n",
       "ORD1196      CUST135     Credit Card   Spain   178.49  \n",
       "ORD1197      CUST288   Bank Transfer      UK  5022.55  \n",
       "ORD1198      CUST614  Cryptocurrency     USA  1026.74  \n",
       "ORD1199      CUST226   Bank Transfer      UK  1297.58  \n",
       "\n",
       "[200 rows x 9 columns]"
      ]
     },
     "execution_count": 14,
     "metadata": {},
     "output_type": "execute_result"
    }
   ],
   "source": [
    "sales_df['Revenue'] = sales_df['price'] * sales_df['quantity']\n",
    "sales_df"
   ]
  },
  {
   "cell_type": "code",
   "execution_count": 18,
   "id": "f22d0376-a2e4-4406-9515-2a50367396b3",
   "metadata": {},
   "outputs": [
    {
     "name": "stdout",
     "output_type": "stream",
     "text": [
      "confirmé\n"
     ]
    }
   ],
   "source": [
    "# De cette façon nous pouvons confirmer le chiffre d'affaire total calculé plus haut\n",
    "CA_conf = round(sum(list(sales_df.Revenue)), 1)\n",
    "if CA == CA_conf : \n",
    "    print(\"confirmé\")\n",
    "else : \n",
    "    print(\"Vérifiez vos calculs\")"
   ]
  },
  {
   "cell_type": "markdown",
   "id": "5c315036-ca37-4e7c-a1ce-d61361f06ed8",
   "metadata": {},
   "source": [
    "Nous confirmons donc que le chiffre d'affaire est correct. Nous continuons donc."
   ]
  },
  {
   "cell_type": "code",
   "execution_count": 35,
   "id": "4c270a96-e6ca-44bd-b6e9-07edc9eaed79",
   "metadata": {},
   "outputs": [
    {
     "data": {
      "text/plain": [
       "category\n",
       "Accessories    107001.86\n",
       "Audio          174143.34\n",
       "Computers       74599.84\n",
       "Electronics     87890.41\n",
       "Wearables       74008.44\n",
       "Name: Revenue, dtype: float64"
      ]
     },
     "execution_count": 35,
     "metadata": {},
     "output_type": "execute_result"
    }
   ],
   "source": [
    "# calcul du Revenu par categorie\n",
    "Rev_cat = sales_df.groupby(\"category\")[\"Revenue\"].sum()\n",
    "Rev_cat"
   ]
  },
  {
   "cell_type": "code",
   "execution_count": 36,
   "id": "7d149d6f-ae32-4802-baad-ada59017858b",
   "metadata": {},
   "outputs": [
    {
     "data": {
      "text/plain": [
       "{'Accessories': 107001.9,\n",
       " 'Audio': 174143.3,\n",
       " 'Computers': 74599.8,\n",
       " 'Electronics': 87890.4,\n",
       " 'Wearables': 74008.4}"
      ]
     },
     "execution_count": 36,
     "metadata": {},
     "output_type": "execute_result"
    }
   ],
   "source": [
    "revenue_cat_dict = dict(Rev_cat)\n",
    "new_rev_dict = {}\n",
    "for key, value in revenue_cat_dict.items() : \n",
    "    new_rev_dict[key] = round(value, 1)\n",
    "new_rev_dict"
   ]
  },
  {
   "cell_type": "code",
   "execution_count": 26,
   "id": "3aa4c363-72df-4ceb-aefe-6c106e8e0098",
   "metadata": {},
   "outputs": [
    {
     "name": "stdout",
     "output_type": "stream",
     "text": [
      " The Number 1 product is : Audio with a revenue of 174143.3 dollars\n",
      " The Number 2 product is : Accessories with a revenue of 107001.9 dollars\n",
      " The Number 3 product is : Electronics with a revenue of 87890.4 dollars\n",
      " The Number 4 product is : Computers with a revenue of 74599.8 dollars\n",
      " The Number 5 product is : Wearables with a revenue of 74008.4 dollars\n"
     ]
    }
   ],
   "source": [
    "# La classification se fera maintenant en ordre décroissant\n",
    "new_rev_dict_sorted = dict(sorted(new_rev_dict.items(), key = operator.itemgetter(1), reverse = True))\n",
    "count = 1\n",
    "for key, value in new_rev_dict_sorted.items() : \n",
    "    if count == len(new_rev_dict_sorted) + 1 :\n",
    "        break\n",
    "    else : \n",
    "        print(f\" The Number {count} product is : {key} with a revenue of {value} dollars\")\n",
    "        count += 1"
   ]
  },
  {
   "cell_type": "markdown",
   "id": "a12b1e19-20aa-486c-ab25-2586ff1e8fc6",
   "metadata": {},
   "source": [
    "#### - Les statistiques descriptives sur les quantités vendues"
   ]
  },
  {
   "cell_type": "code",
   "execution_count": 27,
   "id": "e931c9d6-3082-4070-9df7-7f6f1f770e85",
   "metadata": {},
   "outputs": [
    {
     "data": {
      "text/html": [
       "<div>\n",
       "<style scoped>\n",
       "    .dataframe tbody tr th:only-of-type {\n",
       "        vertical-align: middle;\n",
       "    }\n",
       "\n",
       "    .dataframe tbody tr th {\n",
       "        vertical-align: top;\n",
       "    }\n",
       "\n",
       "    .dataframe thead th {\n",
       "        text-align: right;\n",
       "    }\n",
       "</style>\n",
       "<table border=\"1\" class=\"dataframe\">\n",
       "  <thead>\n",
       "    <tr style=\"text-align: right;\">\n",
       "      <th></th>\n",
       "      <th>price</th>\n",
       "      <th>quantity</th>\n",
       "      <th>Revenue</th>\n",
       "    </tr>\n",
       "  </thead>\n",
       "  <tbody>\n",
       "    <tr>\n",
       "      <th>count</th>\n",
       "      <td>200.0000</td>\n",
       "      <td>200.000000</td>\n",
       "      <td>200.000000</td>\n",
       "    </tr>\n",
       "    <tr>\n",
       "      <th>mean</th>\n",
       "      <td>814.5600</td>\n",
       "      <td>3.160000</td>\n",
       "      <td>2588.219450</td>\n",
       "    </tr>\n",
       "    <tr>\n",
       "      <th>std</th>\n",
       "      <td>427.3182</td>\n",
       "      <td>1.390709</td>\n",
       "      <td>1877.270913</td>\n",
       "    </tr>\n",
       "    <tr>\n",
       "      <th>min</th>\n",
       "      <td>52.9600</td>\n",
       "      <td>1.000000</td>\n",
       "      <td>63.610000</td>\n",
       "    </tr>\n",
       "    <tr>\n",
       "      <th>25%</th>\n",
       "      <td>447.9625</td>\n",
       "      <td>2.000000</td>\n",
       "      <td>1077.615000</td>\n",
       "    </tr>\n",
       "    <tr>\n",
       "      <th>50%</th>\n",
       "      <td>871.4900</td>\n",
       "      <td>3.000000</td>\n",
       "      <td>2199.560000</td>\n",
       "    </tr>\n",
       "    <tr>\n",
       "      <th>75%</th>\n",
       "      <td>1187.4775</td>\n",
       "      <td>4.000000</td>\n",
       "      <td>3701.515000</td>\n",
       "    </tr>\n",
       "    <tr>\n",
       "      <th>max</th>\n",
       "      <td>1495.6700</td>\n",
       "      <td>5.000000</td>\n",
       "      <td>7051.300000</td>\n",
       "    </tr>\n",
       "  </tbody>\n",
       "</table>\n",
       "</div>"
      ],
      "text/plain": [
       "           price    quantity      Revenue\n",
       "count   200.0000  200.000000   200.000000\n",
       "mean    814.5600    3.160000  2588.219450\n",
       "std     427.3182    1.390709  1877.270913\n",
       "min      52.9600    1.000000    63.610000\n",
       "25%     447.9625    2.000000  1077.615000\n",
       "50%     871.4900    3.000000  2199.560000\n",
       "75%    1187.4775    4.000000  3701.515000\n",
       "max    1495.6700    5.000000  7051.300000"
      ]
     },
     "execution_count": 27,
     "metadata": {},
     "output_type": "execute_result"
    }
   ],
   "source": [
    "sales_df.describe()"
   ]
  },
  {
   "cell_type": "markdown",
   "id": "2dd53fd8-cab7-4ca2-a09f-e6619c23fd25",
   "metadata": {},
   "source": [
    "#### - Histogramme des quantités vendues par produit\n",
    "\n",
    "#### - Camembert des revenus par catégorie"
   ]
  },
  {
   "cell_type": "code",
   "execution_count": 31,
   "id": "82ad75c0-3f96-476a-9e98-f3633dc98d53",
   "metadata": {},
   "outputs": [
    {
     "data": {
      "image/png": "[encoded data removed]",
      "text/plain": [
       "<Figure size 640x480 with 1 Axes>"
      ]
     },
     "metadata": {},
     "output_type": "display_data"
    }
   ],
   "source": [
    "# Histogramme\n",
    "import matplotlib.pyplot as plt\n",
    "plt.hist(sales_df[\"quantity\"], bins = 10, color = \"skyblue\", edgecolor = \"black\")\n",
    "plt.title(\"Distribution des quantités vendues\")\n",
    "plt.xlabel(\"Quantité\")\n",
    "plt.ylabel(\"Nombre d’occurrences\")\n",
    "plt.grid(True)\n",
    "plt.show()"
   ]
  },
  {
   "cell_type": "code",
   "execution_count": 39,
   "id": "b4457ea7-69d7-43bb-ae15-6d29660ba68f",
   "metadata": {},
   "outputs": [
    {
     "data": {
      "image/png": "[encoded data removed]",
      "text/plain": [
       "<Figure size 800x800 with 1 Axes>"
      ]
     },
     "metadata": {},
     "output_type": "display_data"
    }
   ],
   "source": [
    "#Camembert\n",
    "# Données\n",
    "Rev_cat_df = sales_df.groupby(\"category\")[\"Revenue\"].sum().reset_index()\n",
    "labels = Rev_cat_df[\"category\"]\n",
    "revenus = Rev_cat_df[\"Revenue\"]\n",
    "\n",
    "# Tracer le camembert\n",
    "plt.figure(figsize = (8, 8))\n",
    "plt.pie(\n",
    "    revenus, \n",
    "    labels = labels, \n",
    "    autopct = '%1.1f%%', \n",
    "    startangle = 140, \n",
    "    shadow = False,\n",
    "    colors = plt.cm.Set3.colors  # Palette douce (optionnelle)\n",
    ")\n",
    "plt.title(\"Répartition du chiffre d'affaires par catégorie de produit\")\n",
    "plt.axis('equal')  # Camembert bien rond\n",
    "plt.tight_layout()\n",
    "plt.show()"
   ]
  },
  {
   "cell_type": "markdown",
   "id": "a1cec8a6-6b10-4935-8e94-f3e5e9909170",
   "metadata": {},
   "source": [
    "#### Exportation dans un fichier "
   ]
  },
  {
   "cell_type": "code",
   "execution_count": 41,
   "id": "654103b8-1a58-4721-927d-6bc669b5d95d",
   "metadata": {},
   "outputs": [],
   "source": [
    "# 1. Calculs préalables\n",
    "chiffre_affaires_total = sales_df[\"Revenue\"].sum()\n",
    "\n",
    "top_5_produits = (\n",
    "    sales_df.groupby(\"product\")[\"quantity\"]\n",
    "    .sum()\n",
    "    .sort_values(ascending=False)\n",
    "    .head(5)\n",
    ")\n",
    "\n",
    "revenus_par_categorie = (\n",
    "    sales_df.groupby(\"category\")[\"Revenue\"]\n",
    "    .sum()\n",
    "    .sort_values(ascending=False)\n",
    ")\n",
    "\n",
    "stats_quantity = sales_df[\"quantity\"].describe()"
   ]
  },
  {
   "cell_type": "code",
   "execution_count": 42,
   "id": "f1712003-eab8-42ce-8cc1-0ba15749cd73",
   "metadata": {},
   "outputs": [],
   "source": [
    "with open(\"sales_report.txt\", \"w\", encoding=\"utf-8\") as f:\n",
    "    f.write(\"=== RAPPORT DE VENTE – NOVATREND E-COMMERCE ===\\n\\n\")\n",
    "    \n",
    "    f.write(\"1. Chiffre d’affaires total :\\n\")\n",
    "    f.write(f\"{chiffre_affaires_total:,.2f} €\\n\\n\")\n",
    "\n",
    "    f.write(\"2. Top 5 des produits les plus vendus :\\n\")\n",
    "    for produit, quantite in top_5_produits.items():\n",
    "        f.write(f\"- {produit} : {quantite} unités vendues\\n\")\n",
    "    f.write(\"\\n\")\n",
    "    \n",
    "    f.write(\"3. Revenus par catégorie :\\n\")\n",
    "    for categorie, revenu in revenus_par_categorie.items():\n",
    "        f.write(f\"- {categorie} : {revenu:,.2f} €\\n\")\n",
    "    f.write(\"\\n\")\n",
    "\n",
    "    f.write(\"4. Statistiques descriptives sur les quantités vendues :\\n\")\n",
    "    for stat, val in stats_quantity.items():\n",
    "        f.write(f\"- {stat} : {val:,.2f}\\n\")\n",
    "    f.write(\"\\n\")\n",
    "\n",
    "    f.write(\"5. Remarques :\\n\")\n",
    "    f.write(\"- Les ventes sont concentrées sur quelques produits phares.\\n\")\n",
    "    f.write(\"- La majorité des commandes se situent entre 1 et 3 unités.\\n\")\n",
    "    f.write(\"- Certaines catégories génèrent un chiffre d’affaires nettement supérieur.\\n\")\n",
    "    f.write(\"\\n\")\n",
    "    \n",
    "    f.write(\"Graphiques enregistrés :\\n\")\n",
    "    f.write(\"- Histogramme : quantities_distribution.png\\n\")\n",
    "    f.write(\"- Camembert : revenues_piechart.png\\n\")"
   ]
  }
 ],
 "metadata": {
  "kernelspec": {
   "display_name": "Python 3 (ipykernel)",
   "language": "python",
   "name": "python3"
  },
  "language_info": {
   "codemirror_mode": {
    "name": "ipython",
    "version": 3
   },
   "file_extension": ".py",
   "mimetype": "text/x-python",
   "name": "python",
   "nbconvert_exporter": "python",
   "pygments_lexer": "ipython3",
   "version": "3.8.8"
  }
 },
 "nbformat": 4,
 "nbformat_minor": 5
}
